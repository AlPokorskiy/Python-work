{
 "cells": [
  {
   "cell_type": "code",
   "execution_count": 2,
   "id": "be2f8773",
   "metadata": {},
   "outputs": [],
   "source": [
    "#Plan outline\n",
    "#1. Function to display the board \n",
    "#2. Request player input \n",
    "#3. Draw the symbol on the board\n",
    "#4. Ask the player if they want to play again\n",
    "#5. Check for win conditions\n",
    "from IPython.display import clear_output\n",
    "\n",
    "def draw_board(board):\n",
    "    clear_output()\n",
    "    \n",
    "    print(\"   Welcome to the Tic Tac Toe game!\")\n",
    "    print(\"=======================================\")\n",
    "    print(\"{}|{}|{}\".format(board[7],board[8],board[9]))\n",
    "    print(\"-----\")\n",
    "    print(\"{}|{}|{}\".format(board[4],board[5],board[6]))\n",
    "    print(\"-----\")\n",
    "    print(\"{}|{}|{}\".format(board[1],board[2],board[3]))\n",
    "    "
   ]
  },
  {
   "cell_type": "code",
   "execution_count": 3,
   "id": "b494d397",
   "metadata": {},
   "outputs": [],
   "source": [
    "def position_pick():\n",
    "    pick_turn = \"w\"\n",
    "#this function will ask what the user to pick either the X or O symbol to play as    \n",
    "    while pick_turn not in ['x','o']:\n",
    "        #prompt the player to pick if they wanna play X or O\n",
    "        pick_turn = input(\"Hey Player 1, pick your symbol (X or O): \")\n",
    "        \n",
    "        if pick_turn not in ['x','o']:\n",
    "            print(\"Invalid input please enter either x or o.\")\n",
    "        elif pick_turn == 'x' or pick_turn == 'o':\n",
    "            return pick_turn \n",
    "\n",
    "     "
   ]
  },
  {
   "cell_type": "code",
   "execution_count": 4,
   "id": "ecd5d838",
   "metadata": {},
   "outputs": [],
   "source": [
    "game_board = ['#',' ',' ',' ',' ',' ','  ',' ',' ',' ']\n",
    "\n",
    "def draw_on_board(board, pinput, position):    \n",
    "    game_layout = ['#','1','2','3','4','5','6','7','8','9']\n",
    "    \n",
    "    if position not in range(1,10):\n",
    "        print(\"{}|{}|{}\".format(game_layout[7],game_layout[8],game_layout[9]))\n",
    "        print(\"-----\")\n",
    "        print(\"{}|{}|{}\".format(game_layout[4],game_layout[5],game_layout[6]))\n",
    "        print(\"-----\")\n",
    "        print(\"{}|{}|{}\".format(game_layout[1],game_layout[2],game_layout[3]))\n",
    "    else:\n",
    "        game_board[position] = pinput      \n",
    "        print(\"{}|{}|{}\".format(game_board[7],game_board[8],game_board[9]))\n",
    "        print(\"-----\")\n",
    "        print(\"{}|{}|{}\".format(game_board[4],game_board[5],game_board[6]))\n",
    "        print(\"-----\")\n",
    "        print(\"{}|{}|{}\".format(game_board[1],game_board[2],game_board[3]))"
   ]
  },
  {
   "cell_type": "code",
   "execution_count": 5,
   "id": "b27f2907",
   "metadata": {},
   "outputs": [],
   "source": [
    "def win_checker(board, marker):\n",
    "    #Horizontal win conditions\n",
    "    #+++++++++++++++++++++++++++++++++++++++++++++++++++++++++++++++++++++\n",
    "    if board[1] == marker and board[2] == marker and board[3] == marker:\n",
    "        return True\n",
    "    elif board[4] == marker and board[5] == marker and board[6] == marker:\n",
    "        return True\n",
    "    elif board[7] == marker and board[8] == marker and board[9] == marker:\n",
    "        return True\n",
    "    #Vertical win condition\n",
    "    #+++++++++++++++++++++++++++++++++++++++++++++++++++++++++++++++++++++\n",
    "    elif board[1] == marker and board[4] == marker and board[7] == marker:\n",
    "        return True\n",
    "    elif board[2] == marker and board[5] == marker and board[8] == marker:\n",
    "        return True\n",
    "    elif board[3] == marker and board[6] == marker and board[9] == marker:\n",
    "        return True\n",
    "    #Diagonal win conditions\n",
    "    #+++++++++++++++++++++++++++++++++++++++++++++++++++++++++++++++++++++\n",
    "    elif board[1] == marker and board[5] == marker and board[9] == marker:\n",
    "        return True\n",
    "    elif board[3] == marker and board[5] == marker and board[7] == marker:\n",
    "        return True\n",
    "    else:\n",
    "        return False"
   ]
  },
  {
   "cell_type": "code",
   "execution_count": 6,
   "id": "c74f85ff",
   "metadata": {},
   "outputs": [],
   "source": [
    "import random\n",
    "def chose_first():\n",
    "    player_pick = random.randint(1,2)\n",
    "    return player_pick"
   ]
  },
  {
   "cell_type": "code",
   "execution_count": 7,
   "id": "3781e283",
   "metadata": {},
   "outputs": [],
   "source": [
    "def is_space_empty(board, position):\n",
    "    if board[position] == ' ':\n",
    "        return True\n",
    "    else:\n",
    "        return False"
   ]
  },
  {
   "cell_type": "code",
   "execution_count": 8,
   "id": "25e5d46a",
   "metadata": {},
   "outputs": [
    {
     "data": {
      "text/plain": [
       "True"
      ]
     },
     "execution_count": 8,
     "metadata": {},
     "output_type": "execute_result"
    }
   ],
   "source": [
    "game_test= ['#',' ','x']\n",
    "is_space_empty(game_test,1)"
   ]
  },
  {
   "cell_type": "code",
   "execution_count": 9,
   "id": "96987410",
   "metadata": {},
   "outputs": [],
   "source": [
    "def full_board(board):\n",
    "    for s in board:\n",
    "        if s == ' ':\n",
    "            return False\n",
    "    return True"
   ]
  },
  {
   "cell_type": "code",
   "execution_count": 10,
   "id": "3387db69",
   "metadata": {},
   "outputs": [],
   "source": [
    "def player_choice(board,player_dict):\n",
    "    #is_taken = is_space_empty(board, position_pick)\n",
    "    position_pick = \"f\"\n",
    "    while position_pick not in ['#','1','2','3','4','5','6','7','8','9']:\n",
    "        \n",
    "        #prompt the player to pick position\n",
    "        position_pick = int(input(\"Pick a position between 1-9: \"))\n",
    "        if position_pick not in [1,2,3,4,5,6,7,8,9]:\n",
    "            print(\"Invalid input please enter number between 1-9\")\n",
    "        else:\n",
    "            if is_space_empty(board,position_pick):\n",
    "                draw_on_board(board,player_dict, position_pick)\n",
    "                break\n"
   ]
  },
  {
   "cell_type": "code",
   "execution_count": 11,
   "id": "0a080ee9",
   "metadata": {},
   "outputs": [],
   "source": [
    "def play_again():\n",
    "    int_choice='w'\n",
    "    \n",
    "    while int_choice not in [\"y\",\"n\"]:\n",
    "        int_choice = input(\"Do you wish to keep playing [y,n]: \")\n",
    "        \n",
    "        if int_choice not in [\"y\",\"n\"]:\n",
    "            print(\"Invlid choice, try again. Please pick y or n\")\n",
    "            \n",
    "    if int_choice == \"y\":\n",
    "        return True\n",
    "    else:\n",
    "        return False"
   ]
  },
  {
   "cell_type": "code",
   "execution_count": 15,
   "id": "1504da0f",
   "metadata": {
    "scrolled": false
   },
   "outputs": [
    {
     "name": "stdout",
     "output_type": "stream",
     "text": [
      "   Welcome to the Tic Tac Toe game!\n",
      "=======================================\n",
      " | | \n",
      "-----\n",
      " | | \n",
      "-----\n",
      " | | \n",
      "Hey Player 1, pick your symbol (X or O): o\n",
      "Pick a position between 1-9: 1\n",
      " | | \n",
      "-----\n",
      " | | \n",
      "-----\n",
      "o| | \n",
      "turn switch x\n",
      "Pick a position between 1-9: \n"
     ]
    },
    {
     "ename": "ValueError",
     "evalue": "invalid literal for int() with base 10: ''",
     "output_type": "error",
     "traceback": [
      "\u001b[1;31m---------------------------------------------------------------------------\u001b[0m",
      "\u001b[1;31mValueError\u001b[0m                                Traceback (most recent call last)",
      "\u001b[1;32m~\\AppData\\Local\\Temp\\ipykernel_5828\\2259270573.py\u001b[0m in \u001b[0;36m<module>\u001b[1;34m\u001b[0m\n\u001b[0;32m     31\u001b[0m     \u001b[1;32mwhile\u001b[0m \u001b[1;32mnot\u001b[0m \u001b[0mfull_board\u001b[0m\u001b[1;33m(\u001b[0m\u001b[0mgame_board\u001b[0m\u001b[1;33m)\u001b[0m\u001b[1;33m:\u001b[0m\u001b[1;33m\u001b[0m\u001b[1;33m\u001b[0m\u001b[0m\n\u001b[0;32m     32\u001b[0m \u001b[1;33m\u001b[0m\u001b[0m\n\u001b[1;32m---> 33\u001b[1;33m         \u001b[0mchoice\u001b[0m\u001b[1;33m=\u001b[0m \u001b[0mplayer_choice\u001b[0m\u001b[1;33m(\u001b[0m\u001b[0mgame_board\u001b[0m\u001b[1;33m,\u001b[0m\u001b[0mcurr_player\u001b[0m\u001b[1;33m)\u001b[0m\u001b[1;33m\u001b[0m\u001b[1;33m\u001b[0m\u001b[0m\n\u001b[0m\u001b[0;32m     34\u001b[0m \u001b[1;33m\u001b[0m\u001b[0m\n\u001b[0;32m     35\u001b[0m         \u001b[1;32mif\u001b[0m \u001b[0mcurr_player\u001b[0m \u001b[1;33m==\u001b[0m \u001b[0msign_pick\u001b[0m\u001b[1;33m[\u001b[0m\u001b[1;36m1\u001b[0m\u001b[1;33m]\u001b[0m\u001b[1;33m:\u001b[0m\u001b[1;33m\u001b[0m\u001b[1;33m\u001b[0m\u001b[0m\n",
      "\u001b[1;32m~\\AppData\\Local\\Temp\\ipykernel_5828\\1147696764.py\u001b[0m in \u001b[0;36mplayer_choice\u001b[1;34m(board, player_dict)\u001b[0m\n\u001b[0;32m      5\u001b[0m \u001b[1;33m\u001b[0m\u001b[0m\n\u001b[0;32m      6\u001b[0m         \u001b[1;31m#prompt the player to pick position\u001b[0m\u001b[1;33m\u001b[0m\u001b[1;33m\u001b[0m\u001b[0m\n\u001b[1;32m----> 7\u001b[1;33m         \u001b[0mposition_pick\u001b[0m \u001b[1;33m=\u001b[0m \u001b[0mint\u001b[0m\u001b[1;33m(\u001b[0m\u001b[0minput\u001b[0m\u001b[1;33m(\u001b[0m\u001b[1;34m\"Pick a position between 1-9: \"\u001b[0m\u001b[1;33m)\u001b[0m\u001b[1;33m)\u001b[0m\u001b[1;33m\u001b[0m\u001b[1;33m\u001b[0m\u001b[0m\n\u001b[0m\u001b[0;32m      8\u001b[0m         \u001b[1;32mif\u001b[0m \u001b[0mposition_pick\u001b[0m \u001b[1;32mnot\u001b[0m \u001b[1;32min\u001b[0m \u001b[1;33m[\u001b[0m\u001b[1;36m1\u001b[0m\u001b[1;33m,\u001b[0m\u001b[1;36m2\u001b[0m\u001b[1;33m,\u001b[0m\u001b[1;36m3\u001b[0m\u001b[1;33m,\u001b[0m\u001b[1;36m4\u001b[0m\u001b[1;33m,\u001b[0m\u001b[1;36m5\u001b[0m\u001b[1;33m,\u001b[0m\u001b[1;36m6\u001b[0m\u001b[1;33m,\u001b[0m\u001b[1;36m7\u001b[0m\u001b[1;33m,\u001b[0m\u001b[1;36m8\u001b[0m\u001b[1;33m,\u001b[0m\u001b[1;36m9\u001b[0m\u001b[1;33m]\u001b[0m\u001b[1;33m:\u001b[0m\u001b[1;33m\u001b[0m\u001b[1;33m\u001b[0m\u001b[0m\n\u001b[0;32m      9\u001b[0m             \u001b[0mprint\u001b[0m\u001b[1;33m(\u001b[0m\u001b[1;34m\"Invalid input please enter number between 1-9\"\u001b[0m\u001b[1;33m)\u001b[0m\u001b[1;33m\u001b[0m\u001b[1;33m\u001b[0m\u001b[0m\n",
      "\u001b[1;31mValueError\u001b[0m: invalid literal for int() with base 10: ''"
     ]
    }
   ],
   "source": [
    "import random\n",
    "from IPython.display import clear_output\n",
    "\n",
    "print('Welcome to Tic Tac Toe')\n",
    "game_board = ['#',' ',' ',' ',' ',' ',' ',' ',' ',' ']\n",
    "game_on = True\n",
    "curr_player = ''\n",
    "sign_pick ={1:0,2:0}\n",
    "\n",
    "while game_on:\n",
    "    draw_board(game_board)\n",
    "#+++++++++++++++++++++++++++++++++++\n",
    "            #signs are picked\n",
    "#+++++++++++++++++++++++++++++++++++\n",
    "    pick_sign = position_pick()\n",
    "    if pick_sign  == 'x':\n",
    "        sign_pick[1] = 'x'\n",
    "        sign_pick[2] = 'o'\n",
    "    else:\n",
    "        sign_pick[1] = 'o'\n",
    "        sign_pick[2] = 'x'\n",
    "#+++++++++++++++++++++++++++++++++++\n",
    "        #pick who goes first\n",
    "        #return the randomly picked player number (1 or 2)\n",
    "    go_first = chose_first()\n",
    "    curr_player = sign_pick[go_first]\n",
    "     \n",
    "\n",
    "        \n",
    "        #for loop that goes 9 iterations (9 turns)\n",
    "    while not full_board(game_board):\n",
    "\n",
    "        choice= player_choice(game_board,curr_player)\n",
    "            \n",
    "        if curr_player == sign_pick[1]:\n",
    "            if not win_checker(game_board,curr_player):\n",
    "                curr_player = sign_pick[2]\n",
    "                print('turn switch {}'.format(curr_player))\n",
    "            else:\n",
    "                print(\"Player {} wins!!!\".format(curr_player))\n",
    "                break\n",
    "\n",
    "        else:\n",
    "            if not win_checker(game_board,curr_player):\n",
    "                curr_player = sign_pick[1]\n",
    "                print('turn switch {}'.format(curr_player))\n",
    "            else:\n",
    "                print(\"Player {} wins!!!\".format(curr_player))\n",
    "                break\n",
    "                       \n",
    "        \n",
    "    if not  play_again():\n",
    "        break\n",
    "    else:\n",
    "        game_on = False\n",
    "        \n",
    "            "
   ]
  },
  {
   "cell_type": "code",
   "execution_count": null,
   "id": "4910932c",
   "metadata": {},
   "outputs": [],
   "source": []
  }
 ],
 "metadata": {
  "kernelspec": {
   "display_name": "Python 3 (ipykernel)",
   "language": "python",
   "name": "python3"
  },
  "language_info": {
   "codemirror_mode": {
    "name": "ipython",
    "version": 3
   },
   "file_extension": ".py",
   "mimetype": "text/x-python",
   "name": "python",
   "nbconvert_exporter": "python",
   "pygments_lexer": "ipython3",
   "version": "3.9.13"
  }
 },
 "nbformat": 4,
 "nbformat_minor": 5
}
